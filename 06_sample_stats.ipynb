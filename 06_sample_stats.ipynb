{
 "cells": [
  {
   "cell_type": "markdown",
   "id": "c5bf5028",
   "metadata": {},
   "source": [
    "# 6장 과제  \n",
    "컴퓨터공학부  \n",
    "장수한(2021-14687)\n"
   ]
  },
  {
   "cell_type": "markdown",
   "id": "6822f01b",
   "metadata": {},
   "source": [
    "## Problem 1"
   ]
  },
  {
   "cell_type": "code",
   "execution_count": 66,
   "id": "33331a23",
   "metadata": {},
   "outputs": [
    {
     "name": "stdout",
     "output_type": "stream",
     "text": [
      "표본평균의 값: 78.44\n",
      "표본표준편차의 값: 10.92\n",
      "t_0.975의 값: 2.31\n"
     ]
    }
   ],
   "source": [
    "import numpy as np\n",
    "from scipy.stats import t\n",
    "    \n",
    "# 9명의 점수를 저장하는 리스트 생성\n",
    "scoreLst = np.array([78, 82, 79, 95, 91, 80, 75, 66, 60])\n",
    "n = len(scoreLst)\n",
    "\n",
    "# 평균을 계산\n",
    "meanVal = scoreLst.mean()\n",
    "print('표본평균의 값: %.2f' %meanVal)\n",
    "\n",
    "# 표본표준편차를 계산\n",
    "stdSVal = np.std(scoreLst, ddof=1)\n",
    "print('표본표준편차의 값: %.2f' %stdVal)\n",
    "\n",
    "# 자유도 n-1일 때 t_(alpha/2)의 값을 계산함\n",
    "alpha = 0.05\n",
    "tVal = t.ppf(1-alpha/2, n-1)\n",
    "print('t_0.975의 값: %.2f' %tVal)"
   ]
  },
  {
   "cell_type": "code",
   "execution_count": 67,
   "id": "cd0f9432",
   "metadata": {},
   "outputs": [
    {
     "name": "stdout",
     "output_type": "stream",
     "text": [
      "모평균의 95% 신뢰구간: [70.049, 86.839]\n"
     ]
    }
   ],
   "source": [
    "lower = meanVal - tVal * stdSVal / np.sqrt(n)\n",
    "upper = meanVal + tVal * stdSVal / np.sqrt(n)\n",
    "print('모평균의 95% 신뢰구간: [{:.3f}, {:.3f}]'.format(lower, upper))"
   ]
  },
  {
   "cell_type": "markdown",
   "id": "1bebb9cb",
   "metadata": {},
   "source": [
    "## Problem 2"
   ]
  },
  {
   "cell_type": "markdown",
   "id": "13d4f65d",
   "metadata": {},
   "source": [
    "전구 수명의 모평균을 $\\mu$라고 하자.  \n",
    "\n",
    "H0: $\\mu$ = 190  \n",
    "H1: $\\mu$ > 190  \n",
    "\n",
    "표본의 크기는 7이다.  \n",
    "전구의 수명 X ~ N($\\mu$, $\\sigma^2$)  \n",
    "$\\overline{X}$ ~ N($\\mu$, $\\sigma^2/7$)  \n",
    "$\\overline{X}-\\mu \\over S/ \\sqrt7$ ~ t(6)"
   ]
  },
  {
   "cell_type": "code",
   "execution_count": 68,
   "id": "44ae5804",
   "metadata": {},
   "outputs": [
    {
     "name": "stdout",
     "output_type": "stream",
     "text": [
      "----- ttest_1samp 이용 -----\n",
      "검정통계량의 값: 2.289 \n",
      "\n",
      "----- 직접 계산 -----\n",
      "검정통계량의 값: 2.289\n",
      "\n",
      "두 값의 동일성 여부: True\n",
      "두 값은 완벽히 동일하다.\n"
     ]
    }
   ],
   "source": [
    "from scipy.stats import ttest_1samp\n",
    "\n",
    "# 7개 전구의 수명을 저장하는 리스트 생성\n",
    "durLst = np.array([200, 196, 185, 190, 210, 198, 199])\n",
    "\n",
    "# ttest_1samp 함수를 이용하여 검정통계량 계산\n",
    "result = ttest_1samp(durLst, 190)\n",
    "print('----- ttest_1samp 이용 -----')\n",
    "print('검정통계량의 값: %.3f \\n' %result.statistic)\n",
    "\n",
    "# 직접 계산하여 검정통계량 계산\n",
    "num = len(durLst)\n",
    "durMean = np.mean(durLst)\n",
    "durStdS = np.std(durLst, ddof=1)\n",
    "detVal = (durMean - 190) / (durStdS / np.sqrt(num))\n",
    "print('----- 직접 계산 -----')\n",
    "print('검정통계량의 값: %.3f\\n' %detVal)\n",
    "\n",
    "isSame = (result.statistic == detVal)\n",
    "print('두 값의 동일성 여부: {}'.format(isSame))\n",
    "if isSame: print('두 값은 완벽히 동일하다.')\n"
   ]
  },
  {
   "cell_type": "markdown",
   "id": "5f89b9f1",
   "metadata": {},
   "source": [
    "## Problem 3"
   ]
  },
  {
   "cell_type": "markdown",
   "id": "a6b21550",
   "metadata": {},
   "source": [
    "H0: $\\mu$<sub>A</sub> - $\\mu$<sub>B</sub> = 0  \n",
    "H1: $\\mu$<sub>A</sub> - $\\mu$<sub>B</sub> > 0"
   ]
  },
  {
   "cell_type": "code",
   "execution_count": 69,
   "id": "019cd994",
   "metadata": {},
   "outputs": [
    {
     "name": "stdout",
     "output_type": "stream",
     "text": [
      "검정통계량의 값이 0보다 큰가?: True\n",
      "p-value: 0.047166\n"
     ]
    }
   ],
   "source": [
    "from scipy.stats import ttest_rel\n",
    "\n",
    "ALst = np.array([4.8, 4.3, 5.4, 4.9, 5.3, 7.7])\n",
    "BLst = np.array([4.0, 4.2, 5.0, 4.5, 5.6, 7.2])\n",
    "\n",
    "res = ttest_rel(ALst, BLst)\n",
    "print('검정통계량의 값이 0보다 큰가?: {}'.format(res.statistic > 0))\n",
    "\n",
    "# pvalue의 값은 양측검정의 값의 절반이다.\n",
    "print('p-value: %.6f' %(res.pvalue/2))"
   ]
  },
  {
   "cell_type": "code",
   "execution_count": 70,
   "id": "dca3cfd3",
   "metadata": {},
   "outputs": [
    {
     "name": "stdout",
     "output_type": "stream",
     "text": [
      "-----검정결과-----\n",
      "p-value 0.047166은 유의수준 0.05보다 작다.\n",
      "따라서, H0를 기각할 수 있다.\n",
      "\n",
      "유의수준 5%에서 A에 비해 B가 체내 유해물질농도를 줄이는데 더 효과가 있다고 볼 충분한 통계적 근거가 있다.\n"
     ]
    }
   ],
   "source": [
    "print('-----검정결과-----')\n",
    "print('p-value 0.047166은 유의수준 0.05보다 작다.')\n",
    "print('따라서, H0를 기각할 수 있다.\\n')\n",
    "print('유의수준 5%에서 A에 비해 B가 체내 유해물질농도를 줄이는데 더 효과가 있다고 볼 충분한 통계적 근거가 있다.')"
   ]
  },
  {
   "cell_type": "markdown",
   "id": "645c1bb6",
   "metadata": {},
   "source": [
    "## Problem 4"
   ]
  },
  {
   "cell_type": "markdown",
   "id": "2d401238",
   "metadata": {},
   "source": [
    "H0: $\\sigma$<sub>1</sub><sup>2</sup>/$\\sigma$<sub>2</sub><sup>2</sup> = 1  \n",
    "H1: $\\sigma$<sub>1</sub><sup>2</sup>/$\\sigma$<sub>2</sub><sup>2</sup> $\\neq$ 1"
   ]
  },
  {
   "cell_type": "code",
   "execution_count": 71,
   "id": "eb7783f0",
   "metadata": {},
   "outputs": [],
   "source": [
    "from scipy.stats import f\n",
    "\n",
    "def var_test(sample1, sample2):\n",
    "    n1, n2 = len(sample1), len(sample2)\n",
    "    S1, S2 = np.var(sample1, ddof=1), np.var(sample2, ddof=1)\n",
    "    dfn, dfd = n1 - 1, n2 - 1\n",
    "\n",
    "    F = S1 / S2\n",
    "    pval = 2 * min(f.cdf(F, dfn=dfn, dfd=dfd), 1 - f.cdf(F, dfn=dfn, dfd=dfd))\n",
    " \n",
    "    # 등분산 검정 결과 요약\n",
    "    print(\"F test to compare two variances: F = %s, num df = %s, denom df = %s, p-value = %s\" \n",
    "          % (round(F,5),dfn,dfd,round(pval,5)))"
   ]
  },
  {
   "cell_type": "code",
   "execution_count": 72,
   "id": "fcb92a2d",
   "metadata": {},
   "outputs": [
    {
     "name": "stdout",
     "output_type": "stream",
     "text": [
      "F test to compare two variances: F = 0.77206, num df = 8, denom df = 6, p-value = 0.71487\n"
     ]
    }
   ],
   "source": [
    "# A 장착 X\n",
    "noneA = [21, 23, 22, 20, 21, 19, 22, 20, 18]\n",
    "\n",
    "# A 장착 O\n",
    "accA = [18, 17, 19, 21, 20, 20, 16]\n",
    "\n",
    "var_test(noneA, accA)\n"
   ]
  },
  {
   "cell_type": "markdown",
   "id": "28949c50",
   "metadata": {},
   "source": [
    "유의수준 5%에서 등분산 검정을 실행한 결과  \n",
    "p-value = 0.71487 > 0.05  \n",
    "따라서 H0를 기각할 수 없다.  \n",
    "\n",
    "즉 등분산을 가정할 충분한 통계적 근거가 있다.  "
   ]
  },
  {
   "cell_type": "markdown",
   "id": "ee55fa78",
   "metadata": {},
   "source": [
    "## Problem 5"
   ]
  },
  {
   "cell_type": "markdown",
   "id": "cdc6eeff",
   "metadata": {},
   "source": [
    "H0: $\\mu$<sub>A미장착</sub> - $\\mu$<sub>A장착</sub> = 0  \n",
    "H1: $\\mu$<sub>A미장착</sub> - $\\mu$<sub>A장착</sub> > 0"
   ]
  },
  {
   "cell_type": "code",
   "execution_count": 73,
   "id": "d114bdef",
   "metadata": {},
   "outputs": [
    {
     "name": "stdout",
     "output_type": "stream",
     "text": [
      "Ttest_indResult(statistic=2.3085184093649356, pvalue=0.03675156998512593)\n"
     ]
    }
   ],
   "source": [
    "from scipy.stats import ttest_ind\n",
    "\n",
    "result = ttest_ind(noneA, accA, equal_var=True)\n",
    "print(result)"
   ]
  },
  {
   "cell_type": "code",
   "execution_count": 74,
   "id": "c48e711f",
   "metadata": {},
   "outputs": [
    {
     "name": "stdout",
     "output_type": "stream",
     "text": [
      "검정통계량이 양수인가?: True\n",
      "p-value: 0.018376\n"
     ]
    }
   ],
   "source": [
    "print('검정통계량이 양수인가?: {}'.format(result.statistic > 0))\n",
    "# 단측검정이므로 p-value의 값을 양측검정의 절반으로 한다.\n",
    "print('p-value: %.6f' %(result.pvalue/2))"
   ]
  },
  {
   "cell_type": "markdown",
   "id": "4c7893fd",
   "metadata": {},
   "source": [
    "유의수준 5%에서는 p-value의 값 0.018376이 0.05보다 작으므로 H0를 기각할 수 있다.  \n",
    "즉, 유의수준 5%에서 A의 장착이 연비저하를 일으킨다고 볼 충분한 통계적 근거가 있다."
   ]
  }
 ],
 "metadata": {
  "kernelspec": {
   "display_name": "Python 3",
   "language": "python",
   "name": "python3"
  },
  "language_info": {
   "codemirror_mode": {
    "name": "ipython",
    "version": 3
   },
   "file_extension": ".py",
   "mimetype": "text/x-python",
   "name": "python",
   "nbconvert_exporter": "python",
   "pygments_lexer": "ipython3",
   "version": "3.8.8"
  }
 },
 "nbformat": 4,
 "nbformat_minor": 5
}
