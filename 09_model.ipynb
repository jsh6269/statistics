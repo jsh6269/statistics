{
 "cells": [
  {
   "cell_type": "markdown",
   "id": "e0ad0d5b",
   "metadata": {},
   "source": [
    "## 9장 과제\n",
    "컴퓨터공학부  \n",
    "장수한(2021-14687)"
   ]
  },
  {
   "cell_type": "markdown",
   "id": "b2fecc40",
   "metadata": {},
   "source": [
    "## Problem 1"
   ]
  },
  {
   "cell_type": "markdown",
   "id": "d7a20201",
   "metadata": {},
   "source": [
    "H0: 성별에 관계없이 완주시간은 동일하다.  \n",
    "H1: 성별에 따라 완주시간이 다르다.  \n",
    "$\\alpha$=0.05"
   ]
  },
  {
   "cell_type": "code",
   "execution_count": 21,
   "id": "0923ceda",
   "metadata": {},
   "outputs": [
    {
     "data": {
      "text/html": [
       "<div>\n",
       "<style scoped>\n",
       "    .dataframe tbody tr th:only-of-type {\n",
       "        vertical-align: middle;\n",
       "    }\n",
       "\n",
       "    .dataframe tbody tr th {\n",
       "        vertical-align: top;\n",
       "    }\n",
       "\n",
       "    .dataframe thead th {\n",
       "        text-align: right;\n",
       "    }\n",
       "</style>\n",
       "<table border=\"1\" class=\"dataframe\">\n",
       "  <thead>\n",
       "    <tr style=\"text-align: right;\">\n",
       "      <th></th>\n",
       "      <th>time</th>\n",
       "      <th>age</th>\n",
       "      <th>gender</th>\n",
       "      <th>state</th>\n",
       "    </tr>\n",
       "  </thead>\n",
       "  <tbody>\n",
       "    <tr>\n",
       "      <th>1</th>\n",
       "      <td>88.31</td>\n",
       "      <td>59</td>\n",
       "      <td>M</td>\n",
       "      <td>MD</td>\n",
       "    </tr>\n",
       "    <tr>\n",
       "      <th>2</th>\n",
       "      <td>100.67</td>\n",
       "      <td>32</td>\n",
       "      <td>M</td>\n",
       "      <td>VA</td>\n",
       "    </tr>\n",
       "    <tr>\n",
       "      <th>3</th>\n",
       "      <td>109.52</td>\n",
       "      <td>33</td>\n",
       "      <td>F</td>\n",
       "      <td>VA</td>\n",
       "    </tr>\n",
       "    <tr>\n",
       "      <th>4</th>\n",
       "      <td>87.11</td>\n",
       "      <td>52</td>\n",
       "      <td>M</td>\n",
       "      <td>PA</td>\n",
       "    </tr>\n",
       "    <tr>\n",
       "      <th>5</th>\n",
       "      <td>73.02</td>\n",
       "      <td>40</td>\n",
       "      <td>M</td>\n",
       "      <td>DC</td>\n",
       "    </tr>\n",
       "    <tr>\n",
       "      <th>...</th>\n",
       "      <td>...</td>\n",
       "      <td>...</td>\n",
       "      <td>...</td>\n",
       "      <td>...</td>\n",
       "    </tr>\n",
       "    <tr>\n",
       "      <th>96</th>\n",
       "      <td>90.47</td>\n",
       "      <td>35</td>\n",
       "      <td>F</td>\n",
       "      <td>VA</td>\n",
       "    </tr>\n",
       "    <tr>\n",
       "      <th>97</th>\n",
       "      <td>94.32</td>\n",
       "      <td>28</td>\n",
       "      <td>F</td>\n",
       "      <td>VA</td>\n",
       "    </tr>\n",
       "    <tr>\n",
       "      <th>98</th>\n",
       "      <td>96.19</td>\n",
       "      <td>32</td>\n",
       "      <td>F</td>\n",
       "      <td>DC</td>\n",
       "    </tr>\n",
       "    <tr>\n",
       "      <th>99</th>\n",
       "      <td>104.31</td>\n",
       "      <td>32</td>\n",
       "      <td>F</td>\n",
       "      <td>MD</td>\n",
       "    </tr>\n",
       "    <tr>\n",
       "      <th>100</th>\n",
       "      <td>89.49</td>\n",
       "      <td>26</td>\n",
       "      <td>M</td>\n",
       "      <td>DC</td>\n",
       "    </tr>\n",
       "  </tbody>\n",
       "</table>\n",
       "<p>100 rows × 4 columns</p>\n",
       "</div>"
      ],
      "text/plain": [
       "       time  age gender state\n",
       "1     88.31   59      M    MD\n",
       "2    100.67   32      M    VA\n",
       "3    109.52   33      F    VA\n",
       "4     87.11   52      M    PA\n",
       "5     73.02   40      M    DC\n",
       "..      ...  ...    ...   ...\n",
       "96    90.47   35      F    VA\n",
       "97    94.32   28      F    VA\n",
       "98    96.19   32      F    DC\n",
       "99   104.31   32      F    MD\n",
       "100   89.49   26      M    DC\n",
       "\n",
       "[100 rows x 4 columns]"
      ]
     },
     "execution_count": 21,
     "metadata": {},
     "output_type": "execute_result"
    }
   ],
   "source": [
    "import pandas\n",
    "# Cherry Blossom 10 mile run을 완주한 100명의 선수 데이터\n",
    "run = pandas.read_table(\"./run10Samp.txt\", sep=\" \")\n",
    "run\n"
   ]
  },
  {
   "cell_type": "code",
   "execution_count": 22,
   "id": "5fd15a33",
   "metadata": {},
   "outputs": [
    {
     "name": "stdout",
     "output_type": "stream",
     "text": [
      "                 sum_sq    df          F    PR(>F)\n",
      "C(gender)   5196.208189   1.0  26.186817  0.000002\n",
      "Residual   19445.983095  98.0        NaN       NaN\n"
     ]
    }
   ],
   "source": [
    "from statsmodels.formula.api import ols\n",
    "import statsmodels.api as sm\n",
    "\n",
    "model = ols('time ~ C(gender)', data=run).fit()\n",
    "result_table = sm.stats.anova_lm(model, typ=2)\n",
    "print(result_table)"
   ]
  },
  {
   "cell_type": "markdown",
   "id": "7c64c4b1",
   "metadata": {},
   "source": [
    "검정통계량 F의 값은 26.186817이며 p-value는 0.000002로 나타났다.  \n",
    "p-value는 0.05보다 작다.  \n",
    "따라서 귀무가설을 기각할 수 있다.   \n",
    "즉, 유의수준 5%에서 성별에 따른 완주시간의 차이가 존재한다고 볼 충분한 통계적 근거가 있다."
   ]
  },
  {
   "cell_type": "markdown",
   "id": "cb19c75b",
   "metadata": {},
   "source": [
    "## Problem 2"
   ]
  },
  {
   "cell_type": "markdown",
   "id": "a1b04c24",
   "metadata": {},
   "source": [
    "$\\mu1$: 남자 모집단의 완주 시간에 대한 모평균  \n",
    "$\\mu2$: 여자 모집단의 완주 시간에 대한 모평균  \n",
    "\n",
    "H0: $\\mu1 = \\mu2$  \n",
    "H1: $\\mu1 \\neq \\mu2$  \n",
    "\n",
    "$\\alpha$=0.05, 등분산을 가정한다."
   ]
  },
  {
   "cell_type": "code",
   "execution_count": 23,
   "id": "dfd10a35",
   "metadata": {},
   "outputs": [
    {
     "name": "stdout",
     "output_type": "stream",
     "text": [
      "Ttest_indResult(statistic=-5.117305648181876, pvalue=1.5438819783437654e-06)\n"
     ]
    }
   ],
   "source": [
    "from scipy.stats import ttest_ind\n",
    "male = run[run['gender'] == 'M']['time']\n",
    "female = run[run['gender'] == 'F']['time']\n",
    "result = ttest_ind(male, female, equal_var=True)\n",
    "print(result)"
   ]
  },
  {
   "cell_type": "markdown",
   "id": "174a8e6c",
   "metadata": {},
   "source": [
    "검정통계량의 값 F는 -5.117305648이다.  \n",
    "p-value는 1.54e-06으로 0.05보다 작다.  \n",
    "따라서 귀무가설을 기각할 수 있다.  \n",
    "즉, 유의수준 5%에서 성별에 따라 완주 시간에 차이가 존재한다고 볼 충분한 통계적 근거가 있다."
   ]
  },
  {
   "cell_type": "markdown",
   "id": "80c39f81",
   "metadata": {},
   "source": [
    "## Problem 3"
   ]
  },
  {
   "cell_type": "code",
   "execution_count": 38,
   "id": "4ea7b640",
   "metadata": {},
   "outputs": [
    {
     "name": "stdout",
     "output_type": "stream",
     "text": [
      "Problem 1에서의 검정통계량의 값: 26.186817\n",
      "Problem 2에서의 검정통계량의 값: -5.117306\n",
      "Problem 2에서의 검정통계량의 값의 제곱: 26.186817\n",
      "\n",
      "F - T**2 = -9.691413183077202e-08\n"
     ]
    }
   ],
   "source": [
    "F, T = 26.186817, result.statistic\n",
    "print('Problem 1에서의 검정통계량의 값: %f' % F)\n",
    "print('Problem 2에서의 검정통계량의 값: %f' % T)\n",
    "print('Problem 2에서의 검정통계량의 값의 제곱: %f\\n' % (T**2))\n",
    "print(\"F - T**2 = {}\".format(F - T**2))\n"
   ]
  },
  {
   "cell_type": "markdown",
   "id": "79b22dcc",
   "metadata": {},
   "source": [
    "(2)의 검정통계량(T)의 값의 제곱은 (1)의 검정통계량(F)의 값과 같아지는 관계가 있다.  \n",
    "남자, 여자의 명수를 n1, n2라 하자.\n",
    "T는 t(n1+n2-2)를 따르고 F는 F(1, n1+n2-2)를 따른다.  \n",
    "T분포와 F분포의 정의를 고려했을 때 T ~ t(k) 이면 T^2 ~ F(1, k)임과도 일맥상통한다.  \n",
    "\n",
    "또 정성적으로 분석해보면 (1)과 (2) 모두 성별에 따른 완주 시간의 차이가 있는지 여부를 검정한 것으로  \n",
    "남자, 여자의 완주 시간 모평균이 서로 차이가 있는지 확인하는 과정이라는 점에서 동일하다.  \n",
    "(1)과 (2)의 유일한 차이점은 (2)의 검정통계량 T는 양측검정이 가능하고 (1)은 가능하지 않다는 점이다.  \n",
    "따라서 P(F(1, n1+n2-2) >= F) = 2 * P( t(n1+n2-2) >= |T|) 를 만족해야하며 이는 F = T^2과 동치이다.  "
   ]
  },
  {
   "cell_type": "markdown",
   "id": "6eeef1a7",
   "metadata": {},
   "source": [
    "## Problem 4"
   ]
  },
  {
   "cell_type": "code",
   "execution_count": 25,
   "id": "0a29f385",
   "metadata": {},
   "outputs": [
    {
     "data": {
      "text/html": [
       "<div>\n",
       "<style scoped>\n",
       "    .dataframe tbody tr th:only-of-type {\n",
       "        vertical-align: middle;\n",
       "    }\n",
       "\n",
       "    .dataframe tbody tr th {\n",
       "        vertical-align: top;\n",
       "    }\n",
       "\n",
       "    .dataframe thead th {\n",
       "        text-align: right;\n",
       "    }\n",
       "</style>\n",
       "<table border=\"1\" class=\"dataframe\">\n",
       "  <thead>\n",
       "    <tr style=\"text-align: right;\">\n",
       "      <th></th>\n",
       "      <th>time</th>\n",
       "      <th>age</th>\n",
       "      <th>gender</th>\n",
       "      <th>state</th>\n",
       "    </tr>\n",
       "  </thead>\n",
       "  <tbody>\n",
       "    <tr>\n",
       "      <th>1</th>\n",
       "      <td>88.31</td>\n",
       "      <td>5</td>\n",
       "      <td>M</td>\n",
       "      <td>MD</td>\n",
       "    </tr>\n",
       "    <tr>\n",
       "      <th>2</th>\n",
       "      <td>100.67</td>\n",
       "      <td>3</td>\n",
       "      <td>M</td>\n",
       "      <td>VA</td>\n",
       "    </tr>\n",
       "    <tr>\n",
       "      <th>3</th>\n",
       "      <td>109.52</td>\n",
       "      <td>3</td>\n",
       "      <td>F</td>\n",
       "      <td>VA</td>\n",
       "    </tr>\n",
       "    <tr>\n",
       "      <th>4</th>\n",
       "      <td>87.11</td>\n",
       "      <td>5</td>\n",
       "      <td>M</td>\n",
       "      <td>PA</td>\n",
       "    </tr>\n",
       "    <tr>\n",
       "      <th>5</th>\n",
       "      <td>73.02</td>\n",
       "      <td>4</td>\n",
       "      <td>M</td>\n",
       "      <td>DC</td>\n",
       "    </tr>\n",
       "    <tr>\n",
       "      <th>...</th>\n",
       "      <td>...</td>\n",
       "      <td>...</td>\n",
       "      <td>...</td>\n",
       "      <td>...</td>\n",
       "    </tr>\n",
       "    <tr>\n",
       "      <th>96</th>\n",
       "      <td>90.47</td>\n",
       "      <td>3</td>\n",
       "      <td>F</td>\n",
       "      <td>VA</td>\n",
       "    </tr>\n",
       "    <tr>\n",
       "      <th>97</th>\n",
       "      <td>94.32</td>\n",
       "      <td>2</td>\n",
       "      <td>F</td>\n",
       "      <td>VA</td>\n",
       "    </tr>\n",
       "    <tr>\n",
       "      <th>98</th>\n",
       "      <td>96.19</td>\n",
       "      <td>3</td>\n",
       "      <td>F</td>\n",
       "      <td>DC</td>\n",
       "    </tr>\n",
       "    <tr>\n",
       "      <th>99</th>\n",
       "      <td>104.31</td>\n",
       "      <td>3</td>\n",
       "      <td>F</td>\n",
       "      <td>MD</td>\n",
       "    </tr>\n",
       "    <tr>\n",
       "      <th>100</th>\n",
       "      <td>89.49</td>\n",
       "      <td>2</td>\n",
       "      <td>M</td>\n",
       "      <td>DC</td>\n",
       "    </tr>\n",
       "  </tbody>\n",
       "</table>\n",
       "<p>100 rows × 4 columns</p>\n",
       "</div>"
      ],
      "text/plain": [
       "       time  age gender state\n",
       "1     88.31    5      M    MD\n",
       "2    100.67    3      M    VA\n",
       "3    109.52    3      F    VA\n",
       "4     87.11    5      M    PA\n",
       "5     73.02    4      M    DC\n",
       "..      ...  ...    ...   ...\n",
       "96    90.47    3      F    VA\n",
       "97    94.32    2      F    VA\n",
       "98    96.19    3      F    DC\n",
       "99   104.31    3      F    MD\n",
       "100   89.49    2      M    DC\n",
       "\n",
       "[100 rows x 4 columns]"
      ]
     },
     "execution_count": 25,
     "metadata": {},
     "output_type": "execute_result"
    }
   ],
   "source": [
    "run['age'] = run['age'] // 10\n",
    "run"
   ]
  },
  {
   "cell_type": "code",
   "execution_count": 37,
   "id": "961b53be",
   "metadata": {},
   "outputs": [
    {
     "name": "stdout",
     "output_type": "stream",
     "text": [
      "연령대로 취할 수 있는 값: {2, 3, 4, 5, 6}\n",
      "연령대에 대한 인자 수준의 개수: 5\n"
     ]
    }
   ],
   "source": [
    "print('연령대로 취할 수 있는 값:', set(run['age']))\n",
    "print('연령대에 대한 인자 수준의 개수:', len(set(run['age'])))"
   ]
  },
  {
   "cell_type": "markdown",
   "id": "111841f2",
   "metadata": {},
   "source": [
    "$\\alpha i$: '연령대' 인자의 i번째 수준의 효과  \n",
    "$\\beta i$: '성별' 인자의 i번째 수준의 효과  \n",
    "\n",
    "H0: $\\alpha 1 = \\alpha 2 = \\alpha 3 = \\alpha 4 = \\alpha 5 = 0$  \n",
    "H1: Not H0  \n",
    "\n",
    "H0: $\\beta 1 = \\beta 2 = 0$  \n",
    "H1: Not H0"
   ]
  },
  {
   "cell_type": "markdown",
   "id": "73b235b7",
   "metadata": {},
   "source": [
    "## Problem 5"
   ]
  },
  {
   "cell_type": "code",
   "execution_count": 30,
   "id": "0981b3da",
   "metadata": {},
   "outputs": [
    {
     "name": "stdout",
     "output_type": "stream",
     "text": [
      "                 sum_sq    df          F    PR(>F)\n",
      "C(age)      1304.250566   4.0   1.689469  0.158923\n",
      "C(gender)   5223.076786   1.0  27.062973  0.000001\n",
      "Residual   18141.732528  94.0        NaN       NaN\n"
     ]
    }
   ],
   "source": [
    "model2 = ols('time ~ C(age) + C(gender)', data=run).fit()\n",
    "res_table = sm.stats.anova_lm(model2, typ=2)\n",
    "print(res_table)"
   ]
  },
  {
   "cell_type": "markdown",
   "id": "07295c77",
   "metadata": {},
   "source": [
    "1) 성별에 대한 검정  \n",
    "검정통계량 F의 값은 27.062973이며 p-value는 0.000001이다.  \n",
    "p-value가 0.05보다 작으므로 귀무가설을 기각할 수 있다.  \n",
    "따라서 유의수준 5%에서 성별이 완주시간에 영향을 주었다고 볼 충분한 통계적 근거가 있다.  \n",
    "\n",
    "2) 연령대에 대한 검정  \n",
    "검정통계량 F의 값은 1.689469이며 p-value는 0.158923이다.  \n",
    "p-value가 0.05보다 크므로 귀무가설을 기각할 수 없다.  \n",
    "따라서 유의수준 5%에서 연령대가 완주시간에 영향을 주었다고 볼 통계적 근거가 없다.  \n",
    "\n",
    "정리하자면 유의수준 5%에서 성별은 완주시간에 영향을 주고 연령대는 영향을 주지 않다고 볼 수 있다."
   ]
  }
 ],
 "metadata": {
  "kernelspec": {
   "display_name": "Python 3",
   "language": "python",
   "name": "python3"
  },
  "language_info": {
   "codemirror_mode": {
    "name": "ipython",
    "version": 3
   },
   "file_extension": ".py",
   "mimetype": "text/x-python",
   "name": "python",
   "nbconvert_exporter": "python",
   "pygments_lexer": "ipython3",
   "version": "3.8.8"
  }
 },
 "nbformat": 4,
 "nbformat_minor": 5
}
