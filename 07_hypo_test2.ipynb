{
 "cells": [
  {
   "cell_type": "markdown",
   "id": "958e2b65",
   "metadata": {},
   "source": [
    "## 과제 7\n",
    "컴퓨터공학부  \n",
    "장수한(2021-14687)"
   ]
  },
  {
   "cell_type": "markdown",
   "id": "851b889b",
   "metadata": {},
   "source": [
    "## Problem 1"
   ]
  },
  {
   "cell_type": "markdown",
   "id": "9fc780ed",
   "metadata": {},
   "source": [
    "독립성 검정을 위한 표본 설계이므로  \n",
    "H0: 안전벨트의 사용 여부는 교통사고 사망율과 독립이다.  \n",
    "H1: H0가 아니다."
   ]
  },
  {
   "cell_type": "markdown",
   "id": "c72b432e",
   "metadata": {},
   "source": [
    "## Problem 2"
   ]
  },
  {
   "cell_type": "code",
   "execution_count": 86,
   "id": "16c335e3",
   "metadata": {},
   "outputs": [
    {
     "data": {
      "text/html": [
       "<div>\n",
       "<style scoped>\n",
       "    .dataframe tbody tr th:only-of-type {\n",
       "        vertical-align: middle;\n",
       "    }\n",
       "\n",
       "    .dataframe tbody tr th {\n",
       "        vertical-align: top;\n",
       "    }\n",
       "\n",
       "    .dataframe thead th {\n",
       "        text-align: right;\n",
       "    }\n",
       "</style>\n",
       "<table border=\"1\" class=\"dataframe\">\n",
       "  <thead>\n",
       "    <tr style=\"text-align: right;\">\n",
       "      <th></th>\n",
       "      <th>Fatal</th>\n",
       "      <th>Nonfatal</th>\n",
       "    </tr>\n",
       "  </thead>\n",
       "  <tbody>\n",
       "    <tr>\n",
       "      <th>No Seat-Belt</th>\n",
       "      <td>1085</td>\n",
       "      <td>55623</td>\n",
       "    </tr>\n",
       "    <tr>\n",
       "      <th>Seat-Belt</th>\n",
       "      <td>703</td>\n",
       "      <td>441239</td>\n",
       "    </tr>\n",
       "  </tbody>\n",
       "</table>\n",
       "</div>"
      ],
      "text/plain": [
       "              Fatal  Nonfatal\n",
       "No Seat-Belt   1085     55623\n",
       "Seat-Belt       703    441239"
      ]
     },
     "execution_count": 86,
     "metadata": {},
     "output_type": "execute_result"
    }
   ],
   "source": [
    "import numpy as np\n",
    "from scipy.stats import chi2_contingency\n",
    "import pandas\n",
    "\n",
    "# 문제에서 주어진 분할표를 입력한다\n",
    "data = np.array([[1085, 55623], [703, 441239]])\n",
    "table_data = pandas.DataFrame(data, ['No Seat-Belt', 'Seat-Belt'], ['Fatal', 'Nonfatal'])\n",
    "table_data"
   ]
  },
  {
   "cell_type": "code",
   "execution_count": 87,
   "id": "bedae5bc",
   "metadata": {},
   "outputs": [
    {
     "name": "stdout",
     "output_type": "stream",
     "text": [
      "[[2.03336817e+02 5.65046632e+04]\n",
      " [1.58466318e+03 4.40357337e+05]]\n",
      "\n",
      "expected의 모든 값은 5보다 크다: True\n"
     ]
    }
   ],
   "source": [
    "detVal, p, dof, expctd = chi2_contingency(table_data)\n",
    "print(expctd, end='\\n\\n')\n",
    "\n",
    "# expctd의 모든 값이 5보다 큰 지 검사한다.\n",
    "isBig = True\n",
    "for i in range(expctd.shape[0]):\n",
    "    for j in range(expctd.shape[1]):\n",
    "        if expctd[i][j] <= 5:\n",
    "            isBig = False\n",
    "print('expected의 모든 값은 5보다 크다:', str(isBig))"
   ]
  },
  {
   "cell_type": "code",
   "execution_count": 88,
   "id": "c8f87841",
   "metadata": {},
   "outputs": [
    {
     "name": "stdout",
     "output_type": "stream",
     "text": [
      "카이제곱 검정통계량값: 4324.0156\n",
      "유의확률: 0.0\n",
      "자유도: 1\n"
     ]
    }
   ],
   "source": [
    "from decimal import Decimal\n",
    "# 검정통계량의 값, 유의확률, 자유도를 출력한다\n",
    "print('카이제곱 검정통계량값: %.4f' % detVal)\n",
    "print('유의확률: {}'.format(p))\n",
    "print('자유도: {}'.format(dof))"
   ]
  },
  {
   "cell_type": "markdown",
   "id": "5194ec42",
   "metadata": {},
   "source": [
    "## Problem 3"
   ]
  },
  {
   "cell_type": "code",
   "execution_count": 89,
   "id": "bacd4d7a",
   "metadata": {},
   "outputs": [
    {
     "name": "stdout",
     "output_type": "stream",
     "text": [
      "p < 0.05 : True\n"
     ]
    }
   ],
   "source": [
    "print('p < 0.05 :', str(p < 0.05))"
   ]
  },
  {
   "cell_type": "markdown",
   "id": "8e823131",
   "metadata": {},
   "source": [
    "$\\alpha$=0.05  \n",
    "유의확률은 0.05보다 작으므로 H0를 기각한다. (유의확률은 0에 매우 가깝다)  \n",
    "따라서 유의수준 5%에서 안전벨트의 사용여부와 사망율은 서로 독립이 아니라고 볼 충분한 통계적 근거가 있다."
   ]
  },
  {
   "cell_type": "markdown",
   "id": "4ee2d844",
   "metadata": {},
   "source": [
    "## Problem 4"
   ]
  },
  {
   "cell_type": "code",
   "execution_count": 90,
   "id": "0fd54114",
   "metadata": {},
   "outputs": [
    {
     "name": "stdout",
     "output_type": "stream",
     "text": [
      "n1: 56708, p1_hat: 0.01913\n",
      "n2: 441942, p2_hat: 0.00159\n"
     ]
    }
   ],
   "source": [
    "td = table_data\n",
    "# n1과 n2를 계산한다.\n",
    "n1 = td['Fatal']['No Seat-Belt'] + td['Nonfatal']['No Seat-Belt']\n",
    "n2 = td['Fatal']['Seat-Belt'] + td['Nonfatal']['Seat-Belt']\n",
    "\n",
    "# p1_hat 과 p2_hat을 계산한다\n",
    "p1_hat = td['Fatal']['No Seat-Belt'] / n1\n",
    "p2_hat = td['Fatal']['Seat-Belt'] / n2\n",
    "\n",
    "# 위에서 계산한 값들을 출력한다\n",
    "print('n1: {}, p1_hat: {:.5f}'.format(n1, p1_hat))\n",
    "print('n2: {}, p2_hat: {:.5f}'.format(n2, p2_hat))"
   ]
  },
  {
   "cell_type": "code",
   "execution_count": 91,
   "id": "e7bd4aaf",
   "metadata": {},
   "outputs": [
    {
     "name": "stdout",
     "output_type": "stream",
     "text": [
      "n1 * p1_hat > 5, n1 * (1-p1_hat) > 5를 만족하는가: True\n",
      "n2 * p2_hat > 5, n2 * (1-p2_hat) > 5를 만족하는가: True\n"
     ]
    }
   ],
   "source": [
    "# 근사의 조건을 만족하는지 살핀다.\n",
    "val1_det = (n1 * p1_hat > 5) and (n1 * (1 - p1_hat) > 5)\n",
    "val2_det = (n2 * p2_hat > 5) and (n2 * (1 - p2_hat) > 5)\n",
    "print('n1 * p1_hat > 5, n1 * (1-p1_hat) > 5를 만족하는가:', val1_det)\n",
    "print('n2 * p2_hat > 5, n2 * (1-p2_hat) > 5를 만족하는가:', val2_det)"
   ]
  },
  {
   "cell_type": "code",
   "execution_count": 92,
   "id": "8e450998",
   "metadata": {},
   "outputs": [
    {
     "name": "stdout",
     "output_type": "stream",
     "text": [
      "모비율 차이에 대한 95% 신뢰구간: [0.01641, 0.01868]\n"
     ]
    }
   ],
   "source": [
    "from scipy.stats import norm\n",
    "subt = p1_hat - p2_hat\n",
    "temp = p1_hat * (1 - p1_hat) / n1 + p2_hat * (1 - p2_hat) / n2\n",
    "\n",
    "# z_(alpha/2)의 값을 계산한다\n",
    "z_val = norm.ppf(1 - 0.025)\n",
    "\n",
    "# 신뢰구간을 계산한다\n",
    "upper = subt + z_val * (temp ** 0.5)\n",
    "lower = subt - z_val * (temp ** 0.5)\n",
    "print('모비율 차이에 대한 95% 신뢰구간: [{:.5f}, {:.5f}]'.format(lower, upper))"
   ]
  },
  {
   "cell_type": "markdown",
   "id": "d7fe8ae5",
   "metadata": {},
   "source": [
    "## Problem 5"
   ]
  },
  {
   "cell_type": "markdown",
   "id": "b2433761",
   "metadata": {},
   "source": [
    "H0: p1 - p2 = 0  \n",
    "H1: p1 - p2 $\\neq$ 0    \n",
    "$\\alpha$ = 0.05"
   ]
  },
  {
   "cell_type": "code",
   "execution_count": 93,
   "id": "467e5024",
   "metadata": {},
   "outputs": [
    {
     "name": "stdout",
     "output_type": "stream",
     "text": [
      "p_hat: 0.00359\n"
     ]
    }
   ],
   "source": [
    "# p_hat의 값을 계산한다\n",
    "p_hat = (td['Fatal']['No Seat-Belt'] + td['Fatal']['Seat-Belt'])/(n1 + n2)\n",
    "print('p_hat: %.5f' % p_hat)"
   ]
  },
  {
   "cell_type": "code",
   "execution_count": 94,
   "id": "5fb63bdd",
   "metadata": {},
   "outputs": [
    {
     "name": "stdout",
     "output_type": "stream",
     "text": [
      "n1 * p_hat > 5, n1 * (1-p_hat) > 5를 만족하는가: True\n",
      "n2 * p_hat > 5, n2 * (1-p_hat) > 5를 만족하는가: True\n"
     ]
    }
   ],
   "source": [
    "# 근사 조건을 만족하는지 확인한다\n",
    "val1_det = (n1 * p_hat > 5) and (n1 * (1 - p_hat) > 5)\n",
    "val2_det = (n2 * p_hat > 5) and (n2 * (1 - p_hat) > 5)\n",
    "print('n1 * p_hat > 5, n1 * (1-p_hat) > 5를 만족하는가:', val1_det)\n",
    "print('n2 * p_hat > 5, n2 * (1-p_hat) > 5를 만족하는가:', val2_det)"
   ]
  },
  {
   "cell_type": "code",
   "execution_count": 95,
   "id": "4af7f95f",
   "metadata": {},
   "outputs": [
    {
     "name": "stdout",
     "output_type": "stream",
     "text": [
      "검정통계량의 값: 65.7946\n"
     ]
    }
   ],
   "source": [
    "z = (p1_hat - p2_hat) / ((p_hat * (1 - p_hat) * (1/n1 + 1/n2)) ** 0.5)\n",
    "print('검정통계량의 값: %.4f' % z)"
   ]
  },
  {
   "cell_type": "code",
   "execution_count": 96,
   "id": "f6c6f542",
   "metadata": {},
   "outputs": [
    {
     "name": "stdout",
     "output_type": "stream",
     "text": [
      "기각역은 |z| > 1.9600\n"
     ]
    }
   ],
   "source": [
    "# z_(alpha/2)의 값을 계산한다\n",
    "z_val = norm.ppf(1 - 0.025)\n",
    "\n",
    "# 기각역을 구한다.\n",
    "print('기각역은 |z| > {:.4f}'.format(z_val))"
   ]
  },
  {
   "cell_type": "code",
   "execution_count": 97,
   "id": "72cac6a6",
   "metadata": {},
   "outputs": [
    {
     "name": "stdout",
     "output_type": "stream",
     "text": [
      "검정통계량의 값이 기각역에 속하는가: True\n"
     ]
    }
   ],
   "source": [
    "print('검정통계량의 값이 기각역에 속하는가:', (z > z_val or z < -z_val))"
   ]
  },
  {
   "cell_type": "markdown",
   "id": "689415fc",
   "metadata": {},
   "source": [
    "검정통계량의 값이 기각역에 속하므로 H0를 기각한다.  \n",
    "즉 유의수준 5%에서 두 그룹의 모비율이 다르다고 볼 충분한 통계적 근거가 있다."
   ]
  }
 ],
 "metadata": {
  "kernelspec": {
   "display_name": "Python 3",
   "language": "python",
   "name": "python3"
  },
  "language_info": {
   "codemirror_mode": {
    "name": "ipython",
    "version": 3
   },
   "file_extension": ".py",
   "mimetype": "text/x-python",
   "name": "python",
   "nbconvert_exporter": "python",
   "pygments_lexer": "ipython3",
   "version": "3.8.8"
  }
 },
 "nbformat": 4,
 "nbformat_minor": 5
}
