{
 "cells": [
  {
   "cell_type": "markdown",
   "id": "439f1776",
   "metadata": {},
   "source": [
    "# 5장 과제"
   ]
  },
  {
   "cell_type": "markdown",
   "id": "ff2579ae",
   "metadata": {},
   "source": [
    "## Problem 1"
   ]
  },
  {
   "cell_type": "code",
   "execution_count": 2,
   "id": "f668108b",
   "metadata": {},
   "outputs": [
    {
     "name": "stdout",
     "output_type": "stream",
     "text": [
      "키의 평균 : 170.44cm\n",
      "키의 표준편차 : 6.90cm\n",
      "키의 중앙값 : 174.30cm\n"
     ]
    }
   ],
   "source": [
    "import numpy as np\n",
    "\n",
    "# 학급 학생들의 키를 담은 numpy 배열을 생성 \n",
    "height = np.array([167.3, 174.3, 175.0, 177.6, 160.5, 161.0, 177.4])\n",
    "\n",
    "# 키의 평균, 표준편차, 중앙값을 계산하여 출력\n",
    "print('키의 평균 : %.2fcm' % height.mean())\n",
    "print('키의 표준편차 : %.2fcm' % height.std())\n",
    "print('키의 중앙값 : %.2fcm' % np.median(height))"
   ]
  },
  {
   "cell_type": "markdown",
   "id": "718bada6",
   "metadata": {},
   "source": [
    "## Problem 2"
   ]
  },
  {
   "cell_type": "code",
   "execution_count": 52,
   "id": "f4fc369b",
   "metadata": {},
   "outputs": [
    {
     "name": "stdout",
     "output_type": "stream",
     "text": [
      "mean of mu1: -0.00029\n",
      "mean of mu2: -0.00345\n",
      "mean of mu3: -0.02773\n",
      "\n",
      "std of mu1: 0.113\n",
      "std of mu2: 0.307\n",
      "std of mu3: 0.156\n",
      "\n",
      "var of mu1: 0.013\n",
      "var of mu2: 0.094\n",
      "var of mu3: 0.024\n"
     ]
    }
   ],
   "source": [
    "from scipy.stats import norm\n",
    "\n",
    "# seed를 설정한다\n",
    "np.random.seed(5)\n",
    "\n",
    "# Xi ~ N(0, 1)\n",
    "# mu1, mu2, mu3 는 각각 표본의 크기 100, 10, 50일 때의 표본평균을 의미한다\n",
    "mu1, mu2, mu3 = [], [], []\n",
    "\n",
    "for i in range(100):\n",
    "    # 크기 100의 표본을 추출한다.\n",
    "    sample = norm.rvs(loc=0, scale=1, size=100)\n",
    "    # 표본의 크기 100, 10, 50의 표본평균을 각각 mu1, mu2, mu3에 저장한다\n",
    "    mu1.append(np.mean(sample))\n",
    "    mu2.append(np.mean(sample[:10]))\n",
    "    mu3.append(np.mean(sample[:50]))\n",
    "\n",
    "# mu1, mu2, mu3의 평균을 계산한다\n",
    "print('mean of mu1: %.5f' %np.mean(mu1))\n",
    "print('mean of mu2: %.5f' %np.mean(mu2))\n",
    "print('mean of mu3: %.5f' %np.mean(mu3))\n",
    "\n",
    "# mu1, mu2, mu3의 표준편차를 계산한다\n",
    "print('\\nstd of mu1: %.3f' %np.std(mu1))\n",
    "print('std of mu2: %.3f' %np.std(mu2))\n",
    "print('std of mu3: %.3f' %np.std(mu3))\n",
    "\n",
    "# mu1, mu2, mu3의 분산을 계산한다\n",
    "print('\\nvar of mu1: %.3f' %np.var(mu1))\n",
    "print('var of mu2: %.3f' %np.var(mu2))\n",
    "print('var of mu3: %.3f' %np.var(mu3))\n"
   ]
  },
  {
   "cell_type": "markdown",
   "id": "7ad62416",
   "metadata": {},
   "source": [
    "추정량의 평균의 경우 mu1이 0에 가장 가까웠으며 다음으로 mu2, mu3의 순서였다.  \n",
    "추정량의 분산의 경우 mu1이 가장 작았으며 그 다음으로 mu3, mu2의 순서로 나타났다.  \n",
    "따라서 표본의 크기가 클수록 추정량의 분산이 작아지는 경향을 확인할 수 있다.\n",
    "\n",
    "(추정량의 평균에서 mu2와 mu3의 비교가 예상과 다르게 나타난 것은 우연적인 효과이다.  \n",
    "random seed를 5가 아닌 값으로 설정한 경우 mu3의 값이 mu2에 비해 0에 더 가까운 것이 일반적이었다. 표본의 크기가 클수록 추정량의 평균이 모평균에 더 가깝게 나타나는 경향이 있다는 뜻이다.)"
   ]
  },
  {
   "cell_type": "markdown",
   "id": "8b9978d9",
   "metadata": {},
   "source": [
    "## Problem 3"
   ]
  },
  {
   "cell_type": "markdown",
   "id": "f998ffa4",
   "metadata": {},
   "source": [
    "표본의 크기: 9  \n",
    "모분산: 16  \n",
    "95% 신뢰구간  "
   ]
  },
  {
   "cell_type": "code",
   "execution_count": 11,
   "id": "1c4a5bf5",
   "metadata": {},
   "outputs": [
    {
     "name": "stdout",
     "output_type": "stream",
     "text": [
      "표본 평균: 54.533시간\n",
      "z_0.025의 값 1.960\n"
     ]
    }
   ],
   "source": [
    "# 표본의 크기, 모표준편차, alpha값을 저장\n",
    "sample_num = 9\n",
    "sigma = 4\n",
    "alpha = 0.05\n",
    "\n",
    "# 크기 9의 표본을 나타내는 리스트 \n",
    "sample_lst = np.array([54.0 , 54.3, 51.0, 52.2, 56.6, 53.7, 57.0, 55.9, 56.1])\n",
    "\n",
    "# 표본 평균을 계산한다\n",
    "sample_mean = sample_lst.mean()\n",
    "print('표본 평균: %.3f시간' %sample_mean.mean())\n",
    "\n",
    "# n은 N(0, 1)의 표준정규분포\n",
    "n = norm(loc=0, scale=1)\n",
    "\n",
    "# z_0.025의 값을 계산\n",
    "z_val = n.ppf(1-alpha/2)\n",
    "print('z_0.025의 값 %.3f' %z_val)"
   ]
  },
  {
   "cell_type": "code",
   "execution_count": 41,
   "id": "260f6c37",
   "metadata": {},
   "outputs": [
    {
     "name": "stdout",
     "output_type": "stream",
     "text": [
      "95% 신뢰구간: [15.045, 11.755]\n"
     ]
    }
   ],
   "source": [
    "# 95% 신뢰구간을 계산한다\n",
    "upper = sample_mean + z_val * (sigma / np.sqrt(sample_num))\n",
    "lower = sample_mean - z_val * (sigma / np.sqrt(sample_num))\n",
    "print('95%% 신뢰구간: [%.3f, %.3f]' %(lower, upper))"
   ]
  },
  {
   "cell_type": "markdown",
   "id": "0c64d504",
   "metadata": {},
   "source": [
    "## Problem 4"
   ]
  },
  {
   "cell_type": "markdown",
   "id": "b6f82e8e",
   "metadata": {},
   "source": [
    "도시의 온도의 모평균을 $\\mu$라고 하자.  \n",
    "\n",
    "H0: $\\mu$ = 15  \n",
    "H1: $\\mu$ < 15\n",
    "\n",
    "유의수준은 5%로 설정한다.\n",
    "표본의 크기는 4이다.  \n",
    "도시의 온도 X ~ N($\\mu$, 9)  \n",
    "$\\overline{X}$ ~ N($\\mu$, 9/4)"
   ]
  },
  {
   "cell_type": "code",
   "execution_count": 39,
   "id": "1378447d",
   "metadata": {},
   "outputs": [
    {
     "name": "stdout",
     "output_type": "stream",
     "text": [
      "검정통계량 Z = (표본평균 - 모평균) / (모표준편차 / sqrt(표본 크기)) ~ N(0, 1)\n",
      "\n",
      "검정통계량의 값: -1.067\n"
     ]
    }
   ],
   "source": [
    "sample_mean = 13.4\n",
    "sigma = 3\n",
    "mu = 15\n",
    "\n",
    "# 검정통계량은 N(0, 1)을 따른다.\n",
    "# 그 값은 아래와 같다.\n",
    "test_stat = (sample_mean - mu) / (sigma / 2)\n",
    "print('검정통계량 Z = (표본평균 - 모평균) / (모표준편차 / sqrt(표본 크기)) ~ N(0, 1)')\n",
    "print('\\n검정통계량의 값: %.3f' %test_stat)"
   ]
  },
  {
   "cell_type": "code",
   "execution_count": 40,
   "id": "e8be74d8",
   "metadata": {},
   "outputs": [
    {
     "name": "stdout",
     "output_type": "stream",
     "text": [
      "기각역은 Z < -1.645 이다.\n",
      "단, Z는 N(0, 1)을 따르는 검정통계량이다.\n"
     ]
    }
   ],
   "source": [
    "from scipy.stats import norm\n",
    "\n",
    "# 유의수준 5%에서의 기각역을 계산하자\n",
    "alpha = 0.05\n",
    "n = norm(loc=0, scale=1)\n",
    "z_val = norm.ppf(alpha)\n",
    "\n",
    "# 기각역을 출력한다\n",
    "print('기각역은 Z < %.3f 이다.' %z_val)\n",
    "print('단, Z는 N(0, 1)을 따르는 검정통계량이다.')"
   ]
  },
  {
   "cell_type": "markdown",
   "id": "88dc7e70",
   "metadata": {},
   "source": [
    "검정통계량의 값인 -1.067은 기각역 Z < -1.645에 포함되지 않는다.  \n",
    "따라서 귀무가설 H0는 기각하지 않는다.  \n",
    "즉 유의수준 5%에서 도시의 온도가 15도보다 낮다고 볼 충분한 통계적 근거가 없다."
   ]
  },
  {
   "cell_type": "markdown",
   "id": "7ae00e4b",
   "metadata": {},
   "source": [
    "## Problem 5"
   ]
  },
  {
   "cell_type": "markdown",
   "id": "3f8d532c",
   "metadata": {},
   "source": [
    "제품의 무게의 모평균을 $\\mu$라 하자.  \n",
    "\n",
    "H0: $\\mu$ = 500  \n",
    "H1: $\\mu$ > 500\n",
    "\n",
    "$\\sigma$ = 4  \n",
    "\n",
    "제품의 무게 $X$ ~ N($\\mu$, 16)  \n",
    "$\\overline{X}$ ~ N($\\mu$, 16/9)"
   ]
  },
  {
   "cell_type": "code",
   "execution_count": 38,
   "id": "67f4b8bc",
   "metadata": {},
   "outputs": [
    {
     "name": "stdout",
     "output_type": "stream",
     "text": [
      "표본평균: 502.444\n",
      "검정통계량 Z = (표본평균 - 모평균) / (모표준편차 / sqrt(표본 크기)) ~ N(0, 1)\n",
      "\n",
      "검정통계량의 값: 1.833\n"
     ]
    }
   ],
   "source": [
    "# 크기 9인 표본은 아래와 같이 주어졌다.\n",
    "sample_lst = np.array([502, 510, 497, 495, 508, 511, 503, 500, 496])\n",
    "\n",
    "# 표본평균을 계산한다\n",
    "sample_mean = sample_lst.mean()\n",
    "print('표본평균: %.3f' %sample_mean)\n",
    "\n",
    "# 검정통계량 Z의 값을 계산한다.\n",
    "print('검정통계량 Z = (표본평균 - 모평균) / (모표준편차 / sqrt(표본 크기)) ~ N(0, 1)')\n",
    "test_stat = (sample_mean - 500) / (4 / 3)\n",
    "print('\\n검정통계량의 값: %.3f' %test_stat)"
   ]
  },
  {
   "cell_type": "code",
   "execution_count": 37,
   "id": "db875e03",
   "metadata": {},
   "outputs": [
    {
     "name": "stdout",
     "output_type": "stream",
     "text": [
      "유의확률: 0.033\n"
     ]
    }
   ],
   "source": [
    "from scipy.stats import norm\n",
    "\n",
    "# 1-p의 값을 계산한다.\n",
    "cdf_val = norm.cdf(test_stat, loc=0, scale=1)\n",
    "\n",
    "# 유의확률 p의 값을 계산하여 출력한다.\n",
    "p_val = 1 - cdf_val\n",
    "print('유의확률: %.3f' %p_val)"
   ]
  }
 ],
 "metadata": {
  "kernelspec": {
   "display_name": "Python 3",
   "language": "python",
   "name": "python3"
  },
  "language_info": {
   "codemirror_mode": {
    "name": "ipython",
    "version": 3
   },
   "file_extension": ".py",
   "mimetype": "text/x-python",
   "name": "python",
   "nbconvert_exporter": "python",
   "pygments_lexer": "ipython3",
   "version": "3.8.8"
  }
 },
 "nbformat": 4,
 "nbformat_minor": 5
}
