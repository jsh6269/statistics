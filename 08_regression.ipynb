{
 "cells": [
  {
   "cell_type": "markdown",
   "id": "d77f9661",
   "metadata": {},
   "source": [
    "## 통계학실험 과제8\n",
    "컴퓨터공학부\n",
    "장수한(2021-14687)"
   ]
  },
  {
   "cell_type": "markdown",
   "id": "68b3e3ca",
   "metadata": {},
   "source": [
    "## Problem 1"
   ]
  },
  {
   "cell_type": "code",
   "execution_count": 101,
   "id": "1c3d6d9a",
   "metadata": {},
   "outputs": [
    {
     "name": "stdout",
     "output_type": "stream",
     "text": [
      "Data:\n",
      " [[-0.78981629  9.14183803]\n",
      " [ 3.4488333   1.93812508]\n",
      " [ 0.62686822  4.96212321]\n",
      " ...\n",
      " [ 6.51508666 -1.59108349]\n",
      " [ 0.38807104  5.36347286]\n",
      " [ 4.24503331  1.38245877]]\n"
     ]
    }
   ],
   "source": [
    "import numpy as np\n",
    "import matplotlib.pyplot as plt\n",
    "\n",
    "# random seed를 2021로 설정함\n",
    "np.random.seed(2021)\n",
    "np.set_printoptions(threshold=10)\n",
    "\n",
    "mu = [3, 4]\n",
    "cov = [[10, -8], [-8, 10]]\n",
    "data = np.random.multivariate_normal(mean=mu, cov=cov, size=100)\n",
    "\n",
    "# 생성한 데이터를 출력\n",
    "print(\"Data:\\n\", data)\n"
   ]
  },
  {
   "cell_type": "code",
   "execution_count": 102,
   "id": "3bd2a890",
   "metadata": {},
   "outputs": [
    {
     "data": {
      "image/png": "[encoded data removed]",
      "text/plain": [
       "<Figure size 360x360 with 1 Axes>"
      ]
     },
     "metadata": {},
     "output_type": "display_data"
    }
   ],
   "source": [
    "# 산점도를 그려 출력함\n",
    "plt.title(\"Scatter plot of brivate normal distribution\", fontsize=15)\n",
    "plt.plot(data[:, 0], data[:, 1], \"C0o\")\n",
    "plt.show()"
   ]
  },
  {
   "cell_type": "code",
   "execution_count": 103,
   "id": "83358655",
   "metadata": {},
   "outputs": [
    {
     "name": "stdout",
     "output_type": "stream",
     "text": [
      "상관계수: -0.83658, p-value: 2.3435871253166954e-27\n"
     ]
    }
   ],
   "source": [
    "from scipy.stats import pearsonr\n",
    "\n",
    "# 상관계수와 p-value를 구하여 출력함\n",
    "r_val, p_val = pearsonr(data[:, 0], data[:, 1])\n",
    "print(\"상관계수: {:.5f}, p-value: {}\".format(r_val, p_val))"
   ]
  },
  {
   "cell_type": "markdown",
   "id": "2c022d0d",
   "metadata": {},
   "source": [
    "## Problem 2"
   ]
  },
  {
   "cell_type": "code",
   "execution_count": 104,
   "id": "e19db8f8",
   "metadata": {},
   "outputs": [
    {
     "name": "stdout",
     "output_type": "stream",
     "text": [
      "Data Num:  414\n"
     ]
    },
    {
     "data": {
      "text/html": [
       "<div>\n",
       "<style scoped>\n",
       "    .dataframe tbody tr th:only-of-type {\n",
       "        vertical-align: middle;\n",
       "    }\n",
       "\n",
       "    .dataframe tbody tr th {\n",
       "        vertical-align: top;\n",
       "    }\n",
       "\n",
       "    .dataframe thead th {\n",
       "        text-align: right;\n",
       "    }\n",
       "</style>\n",
       "<table border=\"1\" class=\"dataframe\">\n",
       "  <thead>\n",
       "    <tr style=\"text-align: right;\">\n",
       "      <th></th>\n",
       "      <th>X1</th>\n",
       "      <th>X2</th>\n",
       "      <th>X3</th>\n",
       "      <th>X4</th>\n",
       "      <th>X5</th>\n",
       "      <th>X6</th>\n",
       "      <th>Y</th>\n",
       "    </tr>\n",
       "  </thead>\n",
       "  <tbody>\n",
       "    <tr>\n",
       "      <th>0</th>\n",
       "      <td>2012.917</td>\n",
       "      <td>32.0</td>\n",
       "      <td>84.87882</td>\n",
       "      <td>10</td>\n",
       "      <td>24.98298</td>\n",
       "      <td>121.54024</td>\n",
       "      <td>37.9</td>\n",
       "    </tr>\n",
       "    <tr>\n",
       "      <th>1</th>\n",
       "      <td>2012.917</td>\n",
       "      <td>19.5</td>\n",
       "      <td>306.59470</td>\n",
       "      <td>9</td>\n",
       "      <td>24.98034</td>\n",
       "      <td>121.53951</td>\n",
       "      <td>42.2</td>\n",
       "    </tr>\n",
       "    <tr>\n",
       "      <th>2</th>\n",
       "      <td>2013.583</td>\n",
       "      <td>13.3</td>\n",
       "      <td>561.98450</td>\n",
       "      <td>5</td>\n",
       "      <td>24.98746</td>\n",
       "      <td>121.54391</td>\n",
       "      <td>47.3</td>\n",
       "    </tr>\n",
       "    <tr>\n",
       "      <th>3</th>\n",
       "      <td>2013.500</td>\n",
       "      <td>13.3</td>\n",
       "      <td>561.98450</td>\n",
       "      <td>5</td>\n",
       "      <td>24.98746</td>\n",
       "      <td>121.54391</td>\n",
       "      <td>54.8</td>\n",
       "    </tr>\n",
       "    <tr>\n",
       "      <th>4</th>\n",
       "      <td>2012.833</td>\n",
       "      <td>5.0</td>\n",
       "      <td>390.56840</td>\n",
       "      <td>5</td>\n",
       "      <td>24.97937</td>\n",
       "      <td>121.54245</td>\n",
       "      <td>43.1</td>\n",
       "    </tr>\n",
       "  </tbody>\n",
       "</table>\n",
       "</div>"
      ],
      "text/plain": [
       "         X1    X2         X3  X4        X5         X6     Y\n",
       "0  2012.917  32.0   84.87882  10  24.98298  121.54024  37.9\n",
       "1  2012.917  19.5  306.59470   9  24.98034  121.53951  42.2\n",
       "2  2013.583  13.3  561.98450   5  24.98746  121.54391  47.3\n",
       "3  2013.500  13.3  561.98450   5  24.98746  121.54391  54.8\n",
       "4  2012.833   5.0  390.56840   5  24.97937  121.54245  43.1"
      ]
     },
     "execution_count": 104,
     "metadata": {},
     "output_type": "execute_result"
    }
   ],
   "source": [
    "import pandas\n",
    "pd_data = pandas.read_csv(\"Real estate.csv\")\n",
    "\n",
    "# 데이터의 개수를 출력\n",
    "data_num = len(pd_data)\n",
    "print(\"Data Num: \", data_num)\n",
    "\n",
    "# 데이터가 어떻게 구성되어 있는지 관찰\n",
    "pd_data.head()"
   ]
  },
  {
   "cell_type": "code",
   "execution_count": 105,
   "id": "3abba380",
   "metadata": {},
   "outputs": [
    {
     "data": {
      "text/html": [
       "<div>\n",
       "<style scoped>\n",
       "    .dataframe tbody tr th:only-of-type {\n",
       "        vertical-align: middle;\n",
       "    }\n",
       "\n",
       "    .dataframe tbody tr th {\n",
       "        vertical-align: top;\n",
       "    }\n",
       "\n",
       "    .dataframe thead th {\n",
       "        text-align: right;\n",
       "    }\n",
       "</style>\n",
       "<table border=\"1\" class=\"dataframe\">\n",
       "  <thead>\n",
       "    <tr style=\"text-align: right;\">\n",
       "      <th></th>\n",
       "      <th>X1</th>\n",
       "      <th>X2</th>\n",
       "      <th>X3</th>\n",
       "      <th>X4</th>\n",
       "      <th>X5</th>\n",
       "      <th>X6</th>\n",
       "      <th>Y</th>\n",
       "    </tr>\n",
       "  </thead>\n",
       "  <tbody>\n",
       "    <tr>\n",
       "      <th>X1</th>\n",
       "      <td>1.000000</td>\n",
       "      <td>0.017549</td>\n",
       "      <td>0.060880</td>\n",
       "      <td>0.009635</td>\n",
       "      <td>0.035058</td>\n",
       "      <td>-0.041082</td>\n",
       "      <td>0.087491</td>\n",
       "    </tr>\n",
       "    <tr>\n",
       "      <th>X2</th>\n",
       "      <td>0.017549</td>\n",
       "      <td>1.000000</td>\n",
       "      <td>0.025622</td>\n",
       "      <td>0.049593</td>\n",
       "      <td>0.054420</td>\n",
       "      <td>-0.048520</td>\n",
       "      <td>-0.210567</td>\n",
       "    </tr>\n",
       "    <tr>\n",
       "      <th>X3</th>\n",
       "      <td>0.060880</td>\n",
       "      <td>0.025622</td>\n",
       "      <td>1.000000</td>\n",
       "      <td>-0.602519</td>\n",
       "      <td>-0.591067</td>\n",
       "      <td>-0.806317</td>\n",
       "      <td>-0.673613</td>\n",
       "    </tr>\n",
       "    <tr>\n",
       "      <th>X4</th>\n",
       "      <td>0.009635</td>\n",
       "      <td>0.049593</td>\n",
       "      <td>-0.602519</td>\n",
       "      <td>1.000000</td>\n",
       "      <td>0.444143</td>\n",
       "      <td>0.449099</td>\n",
       "      <td>0.571005</td>\n",
       "    </tr>\n",
       "    <tr>\n",
       "      <th>X5</th>\n",
       "      <td>0.035058</td>\n",
       "      <td>0.054420</td>\n",
       "      <td>-0.591067</td>\n",
       "      <td>0.444143</td>\n",
       "      <td>1.000000</td>\n",
       "      <td>0.412924</td>\n",
       "      <td>0.546307</td>\n",
       "    </tr>\n",
       "    <tr>\n",
       "      <th>X6</th>\n",
       "      <td>-0.041082</td>\n",
       "      <td>-0.048520</td>\n",
       "      <td>-0.806317</td>\n",
       "      <td>0.449099</td>\n",
       "      <td>0.412924</td>\n",
       "      <td>1.000000</td>\n",
       "      <td>0.523287</td>\n",
       "    </tr>\n",
       "    <tr>\n",
       "      <th>Y</th>\n",
       "      <td>0.087491</td>\n",
       "      <td>-0.210567</td>\n",
       "      <td>-0.673613</td>\n",
       "      <td>0.571005</td>\n",
       "      <td>0.546307</td>\n",
       "      <td>0.523287</td>\n",
       "      <td>1.000000</td>\n",
       "    </tr>\n",
       "  </tbody>\n",
       "</table>\n",
       "</div>"
      ],
      "text/plain": [
       "          X1        X2        X3        X4        X5        X6         Y\n",
       "X1  1.000000  0.017549  0.060880  0.009635  0.035058 -0.041082  0.087491\n",
       "X2  0.017549  1.000000  0.025622  0.049593  0.054420 -0.048520 -0.210567\n",
       "X3  0.060880  0.025622  1.000000 -0.602519 -0.591067 -0.806317 -0.673613\n",
       "X4  0.009635  0.049593 -0.602519  1.000000  0.444143  0.449099  0.571005\n",
       "X5  0.035058  0.054420 -0.591067  0.444143  1.000000  0.412924  0.546307\n",
       "X6 -0.041082 -0.048520 -0.806317  0.449099  0.412924  1.000000  0.523287\n",
       "Y   0.087491 -0.210567 -0.673613  0.571005  0.546307  0.523287  1.000000"
      ]
     },
     "execution_count": 105,
     "metadata": {},
     "output_type": "execute_result"
    }
   ],
   "source": [
    "# 상관행렬을 출력함\n",
    "pd_data.corr(method='pearson')"
   ]
  },
  {
   "cell_type": "markdown",
   "id": "b10639c7",
   "metadata": {},
   "source": [
    "## Problem 3"
   ]
  },
  {
   "cell_type": "code",
   "execution_count": 106,
   "id": "ef2975a5",
   "metadata": {},
   "outputs": [
    {
     "name": "stdout",
     "output_type": "stream",
     "text": [
      "                            OLS Regression Results                            \n",
      "==============================================================================\n",
      "Dep. Variable:                      Y   R-squared:                       0.044\n",
      "Model:                            OLS   Adj. R-squared:                  0.042\n",
      "Method:                 Least Squares   F-statistic:                     19.11\n",
      "Date:                Sun, 28 Nov 2021   Prob (F-statistic):           1.56e-05\n",
      "Time:                        16:46:08   Log-Likelihood:                -1658.3\n",
      "No. Observations:                 414   AIC:                             3321.\n",
      "Df Residuals:                     412   BIC:                             3329.\n",
      "Df Model:                           1                                         \n",
      "Covariance Type:            nonrobust                                         \n",
      "==============================================================================\n",
      "                 coef    std err          t      P>|t|      [0.025      0.975]\n",
      "------------------------------------------------------------------------------\n",
      "Intercept     42.4347      1.211     35.042      0.000      40.054      44.815\n",
      "X2            -0.2515      0.058     -4.372      0.000      -0.365      -0.138\n",
      "==============================================================================\n",
      "Omnibus:                       48.404   Durbin-Watson:                   1.957\n",
      "Prob(Omnibus):                  0.000   Jarque-Bera (JB):              119.054\n",
      "Skew:                           0.589   Prob(JB):                     1.40e-26\n",
      "Kurtosis:                       5.348   Cond. No.                         39.0\n",
      "==============================================================================\n",
      "\n",
      "Notes:\n",
      "[1] Standard Errors assume that the covariance matrix of the errors is correctly specified.\n"
     ]
    }
   ],
   "source": [
    "from statsmodels.formula.api import ols\n",
    "\n",
    "# 종속변수 Y, 독립변수 X2로 선형회귀모형을 구축\n",
    "model = ols(\"Y ~ X2\", pd_data).fit()\n",
    "print(model.summary())"
   ]
  },
  {
   "cell_type": "code",
   "execution_count": 107,
   "id": "555df778",
   "metadata": {},
   "outputs": [
    {
     "name": "stdout",
     "output_type": "stream",
     "text": [
      "직선 y = -0.2515x + 42.4347\n",
      "(회귀계수 추정값) = -0.2515\n"
     ]
    }
   ],
   "source": [
    "print(\"직선 y = %.4fx + %.4f\" %(-0.2515, 42.4347))\n",
    "\n",
    "# 회귀계수의 추정값을 출력함\n",
    "print(\"(회귀계수 추정값) = %.4f\" %(-0.2515))"
   ]
  },
  {
   "cell_type": "markdown",
   "id": "8537ed1d",
   "metadata": {},
   "source": [
    "## Problem 4"
   ]
  },
  {
   "cell_type": "markdown",
   "id": "d62ce19b",
   "metadata": {},
   "source": [
    "-----Variable Discription-----  \n",
    "X1 : transaction date  \n",
    "X2 : house age  \n",
    "X3 : distance to the nearest MRT station  \n",
    "X4 : number of convenience stores  \n",
    "X5 : latitude  \n",
    "X6 : longitude  \n",
    "Y : house price of unit area  "
   ]
  },
  {
   "cell_type": "code",
   "execution_count": 108,
   "id": "1ff962d4",
   "metadata": {},
   "outputs": [
    {
     "name": "stdout",
     "output_type": "stream",
     "text": [
      "                            OLS Regression Results                            \n",
      "==============================================================================\n",
      "Dep. Variable:                      Y   R-squared:                       0.571\n",
      "Model:                            OLS   Adj. R-squared:                  0.566\n",
      "Method:                 Least Squares   F-statistic:                     108.7\n",
      "Date:                Sun, 28 Nov 2021   Prob (F-statistic):           9.34e-73\n",
      "Time:                        16:46:10   Log-Likelihood:                -1492.4\n",
      "No. Observations:                 414   AIC:                             2997.\n",
      "Df Residuals:                     408   BIC:                             3021.\n",
      "Df Model:                           5                                         \n",
      "Covariance Type:            nonrobust                                         \n",
      "==============================================================================\n",
      "                 coef    std err          t      P>|t|      [0.025      0.975]\n",
      "------------------------------------------------------------------------------\n",
      "Intercept  -4945.5951   6211.157     -0.796      0.426   -1.72e+04    7264.269\n",
      "X2            -0.2689      0.039     -6.896      0.000      -0.346      -0.192\n",
      "X3            -0.0043      0.001     -5.888      0.000      -0.006      -0.003\n",
      "X4             1.1630      0.190      6.114      0.000       0.789       1.537\n",
      "X5           237.7672     44.948      5.290      0.000     149.409     326.126\n",
      "X6            -7.8055     49.149     -0.159      0.874    -104.422      88.811\n",
      "==============================================================================\n",
      "Omnibus:                      240.068   Durbin-Watson:                   2.149\n",
      "Prob(Omnibus):                  0.000   Jarque-Bera (JB):             3748.747\n",
      "Skew:                           2.129   Prob(JB):                         0.00\n",
      "Kurtosis:                      17.114   Cond. No.                     2.35e+07\n",
      "==============================================================================\n",
      "\n",
      "Notes:\n",
      "[1] Standard Errors assume that the covariance matrix of the errors is correctly specified.\n",
      "[2] The condition number is large, 2.35e+07. This might indicate that there are\n",
      "strong multicollinearity or other numerical problems.\n"
     ]
    }
   ],
   "source": [
    "# Y를 반응변수, X2, X3, ... X6를 설명변수로 하여 선형회귀모형을 구축함\n",
    "model_mult = ols(\"Y ~ X2 + X3 + X4 + X5 + X6\", pd_data).fit()\n",
    "print(model_mult.summary())"
   ]
  },
  {
   "cell_type": "markdown",
   "id": "99271ea9",
   "metadata": {},
   "source": [
    "X2(house age)와 Y(house price of unit area)의 유의성 검정 결과  \n",
    "t=-6.896, 유의확률은 0에 매우 가까운 값으로 나타났다.  \n",
    "따라서 house age는 house price of unit area를 설명함에 있어 상당히 유의미한 변수라고 볼 수 있다.  \n",
    "또한 유의수준 5%에서 X2, X3, ..., X6 각각의 계수에 대한 유의성 검정결과  \n",
    "X2, X3, X4, X5의 유의확률은 0.05보다 작았으나 X6의 유의확률은 0.875로 0.05보다 크게 나타났다.  \n",
    "즉 유의수준 5%에서 유의미한 변수는 X2, X3, X4, X5 이며 유의미하다고 볼 수 없는 변수는 X6임을 알 수 있다.\n"
   ]
  },
  {
   "cell_type": "markdown",
   "id": "5560fe87",
   "metadata": {},
   "source": [
    "## Problem 5"
   ]
  },
  {
   "cell_type": "code",
   "execution_count": 109,
   "id": "eb067fa2",
   "metadata": {},
   "outputs": [],
   "source": [
    "# X6를 제외하여 선형회귀모형을 구축함\n",
    "model_prop = ols(\"Y ~ X2 + X3 + X4 + X5\", pd_data).fit()"
   ]
  },
  {
   "cell_type": "markdown",
   "id": "6844236f",
   "metadata": {},
   "source": [
    "(1) 잔차도"
   ]
  },
  {
   "cell_type": "code",
   "execution_count": 110,
   "id": "21418b1c",
   "metadata": {},
   "outputs": [
    {
     "data": {
      "image/png": "[encoded data removed]",
      "text/plain": [
       "<Figure size 360x360 with 1 Axes>"
      ]
     },
     "metadata": {},
     "output_type": "display_data"
    }
   ],
   "source": [
    "import seaborn\n",
    "seaborn.set(rc={\"figure.figsize\":(5, 5)})\n",
    "\n",
    "# fitted value와 residual value를 저장함\n",
    "fitted_val = model_prop.fittedvalues\n",
    "resid_val = model_prop.resid\n",
    "ar = np.abs(resid_val)\n",
    "\n",
    "# residuals 중 절대값이 큰 3개를 찾음\n",
    "ar_sort = ar.sort_values(ascending=False)\n",
    "top3 = ar_sort[:3]\n",
    "\n",
    "# 잔차도를 그림\n",
    "seaborn.residplot(x=fitted_val, y=resid_val, data=pd_data)\n",
    "plt.title(\"Residuals vs Fitted\", fontsize=18)\n",
    "plt.ylabel(\"Residuals\", fontsize=14)\n",
    "plt.xlabel(\"Fitted values\", fontsize=14)\n",
    "\n",
    "# residuals 중 절대값이 큰 3개를 표시함\n",
    "for idx in top3.index:\n",
    "    plt.annotate(idx, xy=(fitted_val[idx], resid_val[idx]))\n",
    "plt.show()"
   ]
  },
  {
   "cell_type": "markdown",
   "id": "c57f5b67",
   "metadata": {},
   "source": [
    "위의 잔차도를 확인해보면, 등분산성 가정을 위배하거나 특정 패턴을 따르는 것으로 보이지 않는다.  \n",
    "몇몇 데이터(113번, 270번)는 적정 범위로부터 크게 벗어난 것으로 여겨지나  \n",
    "이를 제외하면 잔차들이 거의 0부근에 위치한다고 볼 수 있다."
   ]
  },
  {
   "cell_type": "markdown",
   "id": "ea8829de",
   "metadata": {},
   "source": [
    "(2) 정규분위수 그래프"
   ]
  },
  {
   "cell_type": "code",
   "execution_count": 111,
   "id": "9f83e484",
   "metadata": {},
   "outputs": [
    {
     "data": {
      "image/png": "[encoded data removed]",
      "text/plain": [
       "<Figure size 360x360 with 1 Axes>"
      ]
     },
     "metadata": {},
     "output_type": "display_data"
    }
   ],
   "source": [
    "from statsmodels.graphics.gofplots import ProbPlot\n",
    "\n",
    "# 정규분위수 그래프를 그림\n",
    "QQ = ProbPlot(resid_val)\n",
    "plot = QQ.qqplot(line='s', color='C0', lw=1)\n",
    "plt.title(\"Normal Q-Q Plot\", fontsize=15)\n",
    "plt.show()"
   ]
  },
  {
   "cell_type": "markdown",
   "id": "cd9f9e39",
   "metadata": {},
   "source": [
    "정규분위수 그래프를 보면 양쪽 말단(x<-2 or x>1.8)에서 직선으로부터 벗어나는 현상을 보였으나  \n",
    "잔차들의 대부분 { x$\\in$(-2, 1.5) }은 직선의 개형을 따른다고 볼 수 있다.  \n",
    "즉, 문제 4에서 중선형회귀모형을 적용한 것이 타당하다고 볼 수 있다."
   ]
  },
  {
   "cell_type": "code",
   "execution_count": null,
   "id": "837997f6",
   "metadata": {},
   "outputs": [],
   "source": []
  }
 ],
 "metadata": {
  "kernelspec": {
   "display_name": "Python 3",
   "language": "python",
   "name": "python3"
  },
  "language_info": {
   "codemirror_mode": {
    "name": "ipython",
    "version": 3
   },
   "file_extension": ".py",
   "mimetype": "text/x-python",
   "name": "python",
   "nbconvert_exporter": "python",
   "pygments_lexer": "ipython3",
   "version": "3.8.8"
  }
 },
 "nbformat": 4,
 "nbformat_minor": 5
}
